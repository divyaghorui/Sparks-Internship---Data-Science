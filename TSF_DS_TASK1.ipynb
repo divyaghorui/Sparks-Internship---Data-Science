{
  "nbformat": 4,
  "nbformat_minor": 0,
  "metadata": {
    "colab": {
      "name": "SPARKS_TASK1.ipynb",
      "provenance": [],
      "collapsed_sections": []
    },
    "kernelspec": {
      "name": "python3",
      "display_name": "Python 3"
    }
  },
  "cells": [
    {
      "cell_type": "markdown",
      "metadata": {
        "id": "8XBq39aLLLDG"
      },
      "source": [
        "# **TASK 1 : Prediction using Supervised ML**\r\n",
        "\r\n",
        "### Predict the percentage of an student based on the number of study hours.\r\n",
        "1.   This is a simple linear regression task as it involves just 2 variables.\r\n",
        "2.   You can use R, Python, SAS Enterprise Miner or any other tool\r\n",
        "3.   Data can be found at http://bit.ly/w-data\r\n",
        "4.   What will be predicted score if a student studies for 9.25 hrs/ day?\r\n",
        "\r\n",
        "### AUTHOR : DIVYA GHORUI\r\n"
      ]
    },
    {
      "cell_type": "markdown",
      "metadata": {
        "id": "2OVoTKWZM-fA"
      },
      "source": [
        "### **Importing libraries**"
      ]
    },
    {
      "cell_type": "code",
      "metadata": {
        "id": "g-bMfnI5KRKF"
      },
      "source": [
        "import pandas as pd\r\n",
        "import numpy as np\r\n",
        "import matplotlib.pyplot as plt \r\n",
        "import seaborn as sns\r\n",
        "from sklearn.model_selection import train_test_split\r\n",
        "from sklearn.linear_model import LinearRegression\r\n",
        "from sklearn import metrics\r\n",
        "\r\n",
        "%matplotlib inline"
      ],
      "execution_count": null,
      "outputs": []
    },
    {
      "cell_type": "markdown",
      "metadata": {
        "id": "6s6IiSfeNTbT"
      },
      "source": [
        "### **Reading the Dataset**\r\n",
        "Reading the data successfully and viewing it."
      ]
    },
    {
      "cell_type": "code",
      "metadata": {
        "colab": {
          "base_uri": "https://localhost:8080/",
          "height": 841
        },
        "id": "AyCXKiwTM6-F",
        "outputId": "3564764c-a0f4-46f8-9a39-26d0ee979a64"
      },
      "source": [
        "data = pd.read_csv(\"http://bit.ly/w-data\")\r\n",
        "print(\"Data imported successfully\")\r\n",
        "\r\n",
        "data"
      ],
      "execution_count": null,
      "outputs": [
        {
          "output_type": "stream",
          "text": [
            "Data imported successfully\n"
          ],
          "name": "stdout"
        },
        {
          "output_type": "execute_result",
          "data": {
            "text/html": [
              "<div>\n",
              "<style scoped>\n",
              "    .dataframe tbody tr th:only-of-type {\n",
              "        vertical-align: middle;\n",
              "    }\n",
              "\n",
              "    .dataframe tbody tr th {\n",
              "        vertical-align: top;\n",
              "    }\n",
              "\n",
              "    .dataframe thead th {\n",
              "        text-align: right;\n",
              "    }\n",
              "</style>\n",
              "<table border=\"1\" class=\"dataframe\">\n",
              "  <thead>\n",
              "    <tr style=\"text-align: right;\">\n",
              "      <th></th>\n",
              "      <th>Hours</th>\n",
              "      <th>Scores</th>\n",
              "    </tr>\n",
              "  </thead>\n",
              "  <tbody>\n",
              "    <tr>\n",
              "      <th>0</th>\n",
              "      <td>2.5</td>\n",
              "      <td>21</td>\n",
              "    </tr>\n",
              "    <tr>\n",
              "      <th>1</th>\n",
              "      <td>5.1</td>\n",
              "      <td>47</td>\n",
              "    </tr>\n",
              "    <tr>\n",
              "      <th>2</th>\n",
              "      <td>3.2</td>\n",
              "      <td>27</td>\n",
              "    </tr>\n",
              "    <tr>\n",
              "      <th>3</th>\n",
              "      <td>8.5</td>\n",
              "      <td>75</td>\n",
              "    </tr>\n",
              "    <tr>\n",
              "      <th>4</th>\n",
              "      <td>3.5</td>\n",
              "      <td>30</td>\n",
              "    </tr>\n",
              "    <tr>\n",
              "      <th>5</th>\n",
              "      <td>1.5</td>\n",
              "      <td>20</td>\n",
              "    </tr>\n",
              "    <tr>\n",
              "      <th>6</th>\n",
              "      <td>9.2</td>\n",
              "      <td>88</td>\n",
              "    </tr>\n",
              "    <tr>\n",
              "      <th>7</th>\n",
              "      <td>5.5</td>\n",
              "      <td>60</td>\n",
              "    </tr>\n",
              "    <tr>\n",
              "      <th>8</th>\n",
              "      <td>8.3</td>\n",
              "      <td>81</td>\n",
              "    </tr>\n",
              "    <tr>\n",
              "      <th>9</th>\n",
              "      <td>2.7</td>\n",
              "      <td>25</td>\n",
              "    </tr>\n",
              "    <tr>\n",
              "      <th>10</th>\n",
              "      <td>7.7</td>\n",
              "      <td>85</td>\n",
              "    </tr>\n",
              "    <tr>\n",
              "      <th>11</th>\n",
              "      <td>5.9</td>\n",
              "      <td>62</td>\n",
              "    </tr>\n",
              "    <tr>\n",
              "      <th>12</th>\n",
              "      <td>4.5</td>\n",
              "      <td>41</td>\n",
              "    </tr>\n",
              "    <tr>\n",
              "      <th>13</th>\n",
              "      <td>3.3</td>\n",
              "      <td>42</td>\n",
              "    </tr>\n",
              "    <tr>\n",
              "      <th>14</th>\n",
              "      <td>1.1</td>\n",
              "      <td>17</td>\n",
              "    </tr>\n",
              "    <tr>\n",
              "      <th>15</th>\n",
              "      <td>8.9</td>\n",
              "      <td>95</td>\n",
              "    </tr>\n",
              "    <tr>\n",
              "      <th>16</th>\n",
              "      <td>2.5</td>\n",
              "      <td>30</td>\n",
              "    </tr>\n",
              "    <tr>\n",
              "      <th>17</th>\n",
              "      <td>1.9</td>\n",
              "      <td>24</td>\n",
              "    </tr>\n",
              "    <tr>\n",
              "      <th>18</th>\n",
              "      <td>6.1</td>\n",
              "      <td>67</td>\n",
              "    </tr>\n",
              "    <tr>\n",
              "      <th>19</th>\n",
              "      <td>7.4</td>\n",
              "      <td>69</td>\n",
              "    </tr>\n",
              "    <tr>\n",
              "      <th>20</th>\n",
              "      <td>2.7</td>\n",
              "      <td>30</td>\n",
              "    </tr>\n",
              "    <tr>\n",
              "      <th>21</th>\n",
              "      <td>4.8</td>\n",
              "      <td>54</td>\n",
              "    </tr>\n",
              "    <tr>\n",
              "      <th>22</th>\n",
              "      <td>3.8</td>\n",
              "      <td>35</td>\n",
              "    </tr>\n",
              "    <tr>\n",
              "      <th>23</th>\n",
              "      <td>6.9</td>\n",
              "      <td>76</td>\n",
              "    </tr>\n",
              "    <tr>\n",
              "      <th>24</th>\n",
              "      <td>7.8</td>\n",
              "      <td>86</td>\n",
              "    </tr>\n",
              "  </tbody>\n",
              "</table>\n",
              "</div>"
            ],
            "text/plain": [
              "    Hours  Scores\n",
              "0     2.5      21\n",
              "1     5.1      47\n",
              "2     3.2      27\n",
              "3     8.5      75\n",
              "4     3.5      30\n",
              "5     1.5      20\n",
              "6     9.2      88\n",
              "7     5.5      60\n",
              "8     8.3      81\n",
              "9     2.7      25\n",
              "10    7.7      85\n",
              "11    5.9      62\n",
              "12    4.5      41\n",
              "13    3.3      42\n",
              "14    1.1      17\n",
              "15    8.9      95\n",
              "16    2.5      30\n",
              "17    1.9      24\n",
              "18    6.1      67\n",
              "19    7.4      69\n",
              "20    2.7      30\n",
              "21    4.8      54\n",
              "22    3.8      35\n",
              "23    6.9      76\n",
              "24    7.8      86"
            ]
          },
          "metadata": {
            "tags": []
          },
          "execution_count": 2
        }
      ]
    },
    {
      "cell_type": "code",
      "metadata": {
        "colab": {
          "base_uri": "https://localhost:8080/",
          "height": 284
        },
        "id": "aLLLENChTbRV",
        "outputId": "22348d7a-1f0f-4aaf-fc55-84e9215b118e"
      },
      "source": [
        "# Just some desciption of the data we are working with\r\n",
        "data.describe()  "
      ],
      "execution_count": null,
      "outputs": [
        {
          "output_type": "execute_result",
          "data": {
            "text/html": [
              "<div>\n",
              "<style scoped>\n",
              "    .dataframe tbody tr th:only-of-type {\n",
              "        vertical-align: middle;\n",
              "    }\n",
              "\n",
              "    .dataframe tbody tr th {\n",
              "        vertical-align: top;\n",
              "    }\n",
              "\n",
              "    .dataframe thead th {\n",
              "        text-align: right;\n",
              "    }\n",
              "</style>\n",
              "<table border=\"1\" class=\"dataframe\">\n",
              "  <thead>\n",
              "    <tr style=\"text-align: right;\">\n",
              "      <th></th>\n",
              "      <th>Actual</th>\n",
              "      <th>Predicted</th>\n",
              "    </tr>\n",
              "  </thead>\n",
              "  <tbody>\n",
              "    <tr>\n",
              "      <th>count</th>\n",
              "      <td>5.000000</td>\n",
              "      <td>5.000000</td>\n",
              "    </tr>\n",
              "    <tr>\n",
              "      <th>mean</th>\n",
              "      <td>41.600000</td>\n",
              "      <td>42.651852</td>\n",
              "    </tr>\n",
              "    <tr>\n",
              "      <th>std</th>\n",
              "      <td>22.255336</td>\n",
              "      <td>24.407192</td>\n",
              "    </tr>\n",
              "    <tr>\n",
              "      <th>min</th>\n",
              "      <td>20.000000</td>\n",
              "      <td>16.884145</td>\n",
              "    </tr>\n",
              "    <tr>\n",
              "      <th>25%</th>\n",
              "      <td>27.000000</td>\n",
              "      <td>26.794801</td>\n",
              "    </tr>\n",
              "    <tr>\n",
              "      <th>50%</th>\n",
              "      <td>30.000000</td>\n",
              "      <td>33.732261</td>\n",
              "    </tr>\n",
              "    <tr>\n",
              "      <th>75%</th>\n",
              "      <td>62.000000</td>\n",
              "      <td>60.491033</td>\n",
              "    </tr>\n",
              "    <tr>\n",
              "      <th>max</th>\n",
              "      <td>69.000000</td>\n",
              "      <td>75.357018</td>\n",
              "    </tr>\n",
              "  </tbody>\n",
              "</table>\n",
              "</div>"
            ],
            "text/plain": [
              "          Actual  Predicted\n",
              "count   5.000000   5.000000\n",
              "mean   41.600000  42.651852\n",
              "std    22.255336  24.407192\n",
              "min    20.000000  16.884145\n",
              "25%    27.000000  26.794801\n",
              "50%    30.000000  33.732261\n",
              "75%    62.000000  60.491033\n",
              "max    69.000000  75.357018"
            ]
          },
          "metadata": {
            "tags": []
          },
          "execution_count": 133
        }
      ]
    },
    {
      "cell_type": "markdown",
      "metadata": {
        "id": "89LwuPITN8-r"
      },
      "source": [
        "### **Filtering the Dataset**"
      ]
    },
    {
      "cell_type": "code",
      "metadata": {
        "colab": {
          "base_uri": "https://localhost:8080/"
        },
        "id": "4jRi-0bzM67I",
        "outputId": "d1db5001-cdc2-49c8-dbe9-568b79827e17"
      },
      "source": [
        "#checking for null values\r\n",
        "data.isnull().sum()"
      ],
      "execution_count": null,
      "outputs": [
        {
          "output_type": "execute_result",
          "data": {
            "text/plain": [
              "Hours     0\n",
              "Scores    0\n",
              "dtype: int64"
            ]
          },
          "metadata": {
            "tags": []
          },
          "execution_count": 120
        }
      ]
    },
    {
      "cell_type": "markdown",
      "metadata": {
        "id": "fyaOXH15OG_r"
      },
      "source": [
        "There are no null values, and hence no need of cleaning up the dataset before working with it."
      ]
    },
    {
      "cell_type": "markdown",
      "metadata": {
        "id": "-oc6vIHWOTBX"
      },
      "source": [
        "### **Graphical Representation of the Distribution of scores**"
      ]
    },
    {
      "cell_type": "code",
      "metadata": {
        "colab": {
          "base_uri": "https://localhost:8080/",
          "height": 295
        },
        "id": "xqzxW7npOaJ2",
        "outputId": "91b5eeab-bfb7-47e3-f8e0-74f25ca95d8b"
      },
      "source": [
        "data.plot(x ='Hours', y ='Scores', style ='o')  \r\n",
        "plt.title('Study Hours vs Percentage Scores')  \r\n",
        "plt.xlabel('Hours Studied')  \r\n",
        "plt.ylabel('Score in %')  \r\n",
        "plt.show()"
      ],
      "execution_count": null,
      "outputs": [
        {
          "output_type": "display_data",
          "data": {
            "image/png": "[encoded data removed]",
            "text/plain": [
              "<Figure size 432x288 with 1 Axes>"
            ]
          },
          "metadata": {
            "tags": [],
            "needs_background": "light"
          }
        }
      ]
    },
    {
      "cell_type": "code",
      "metadata": {
        "colab": {
          "base_uri": "https://localhost:8080/",
          "height": 295
        },
        "id": "pgEXyHL4O1hD",
        "outputId": "c3fed780-c5b5-418c-c9e9-88fda73c06a7"
      },
      "source": [
        "# plotting regressor plot to determine the relationship between the two parameters\r\n",
        "sns.regplot(x = data['Hours'], y = data['Scores'], data = data)\r\n",
        "plt.title('Study Hours vs Percentage Scores')  \r\n",
        "plt.xlabel('Study Hours')\r\n",
        "plt.ylabel('Percentage')\r\n",
        "plt.show()"
      ],
      "execution_count": null,
      "outputs": [
        {
          "output_type": "display_data",
          "data": {
            "image/png": "[encoded data removed]",
            "text/plain": [
              "<Figure size 432x288 with 1 Axes>"
            ]
          },
          "metadata": {
            "tags": [],
            "needs_background": "light"
          }
        }
      ]
    },
    {
      "cell_type": "markdown",
      "metadata": {
        "id": "xCexl-L5PEGz"
      },
      "source": [
        "Here we can see that a positive-sloped linear graph was detected between \"Study Hours and Percentage Scores\""
      ]
    },
    {
      "cell_type": "markdown",
      "metadata": {
        "id": "1zdWODkIPbyN"
      },
      "source": [
        "### **Pre-Processing the Data**"
      ]
    },
    {
      "cell_type": "markdown",
      "metadata": {
        "id": "Oj__vI8rPy-H"
      },
      "source": [
        "Next is to define our \"attributes\" (input) variable and \"labels\" (output)"
      ]
    },
    {
      "cell_type": "code",
      "metadata": {
        "id": "10wUr6Y1PrmE"
      },
      "source": [
        "x = data.iloc[:, :-1].values  #Attribute\r\n",
        "y = data.iloc[:, 1].values    #Labels"
      ],
      "execution_count": null,
      "outputs": []
    },
    {
      "cell_type": "markdown",
      "metadata": {
        "id": "rYlCXTCvQS8U"
      },
      "source": [
        "Now that we have the attributes and labels defined, the next step is to split this data into training and test sets."
      ]
    },
    {
      "cell_type": "code",
      "metadata": {
        "id": "vTTnbuNWP_S8"
      },
      "source": [
        "# Using Scikit-Learn's built-in train_test_split() method:\r\n",
        "\r\n",
        "x_train, x_test, y_train, y_test = train_test_split(x, y, train_size = 0.80, test_size = 0.20, random_state = 0)"
      ],
      "execution_count": null,
      "outputs": []
    },
    {
      "cell_type": "markdown",
      "metadata": {
        "id": "DlJDiuM9QVFW"
      },
      "source": [
        "### **Training the Model**"
      ]
    },
    {
      "cell_type": "code",
      "metadata": {
        "id": "AUS89nnKT-K4"
      },
      "source": [
        "# Using LinearRegression from Scikit-Learn's built-in method:\r\n",
        "linearRegressor = LinearRegression()\r\n",
        "linearRegressor.fit(x_train, y_train)\r\n",
        "y_predict = linearRegressor.predict(x_train)"
      ],
      "execution_count": null,
      "outputs": []
    },
    {
      "cell_type": "markdown",
      "metadata": {
        "id": "_53lbsc3Up5s"
      },
      "source": [
        "### **Training the Algorithm**"
      ]
    },
    {
      "cell_type": "code",
      "metadata": {
        "colab": {
          "base_uri": "https://localhost:8080/"
        },
        "id": "cjV8YsYjV7-t",
        "outputId": "6987af20-2319-4293-e4a6-b4ee0c9bfc71"
      },
      "source": [
        "regressor = LinearRegression()  \r\n",
        "regressor.fit(x_train, y_train) \r\n",
        "\r\n",
        "print(\"Training complete.\")"
      ],
      "execution_count": null,
      "outputs": [
        {
          "output_type": "stream",
          "text": [
            "Training complete.\n"
          ],
          "name": "stdout"
        }
      ]
    },
    {
      "cell_type": "code",
      "metadata": {
        "colab": {
          "base_uri": "https://localhost:8080/",
          "height": 295
        },
        "id": "mqetyQiTU4IW",
        "outputId": "bdc0ac02-db74-47f9-cf1b-9efe3645ce96"
      },
      "source": [
        "# Plotting the regression line\r\n",
        "line = regressor.coef_*x+regressor.intercept_\r\n",
        "# Plotting for the test data\r\n",
        "plt.title('Study Hours vs Percentage Scores')\r\n",
        "plt.xlabel('Study Hours')\r\n",
        "plt.ylabel('Percentage')\r\n",
        "plt.scatter(x, y)\r\n",
        "plt.plot(x, line, color ='red', label = 'Regression Line')\r\n",
        "plt.legend()\r\n",
        "plt.show()"
      ],
      "execution_count": null,
      "outputs": [
        {
          "output_type": "display_data",
          "data": {
            "image/png": "[encoded data removed]",
            "text/plain": [
              "<Figure size 432x288 with 1 Axes>"
            ]
          },
          "metadata": {
            "tags": [],
            "needs_background": "light"
          }
        }
      ]
    },
    {
      "cell_type": "markdown",
      "metadata": {
        "id": "IYdTaKr3WZ2P"
      },
      "source": [
        "### **Checking Training And Testing Accuracy**"
      ]
    },
    {
      "cell_type": "code",
      "metadata": {
        "colab": {
          "base_uri": "https://localhost:8080/"
        },
        "id": "03_G4YHrWaTv",
        "outputId": "52ed1a32-f2f0-4c44-d766-50355555ea24"
      },
      "source": [
        "print(\"Test Score : {:.5%}\".format(regressor.score(x_test, y_test)))\r\n",
        "print(\"Training Score : {:.5%}\".format(regressor.score(x_train, y_train)))"
      ],
      "execution_count": null,
      "outputs": [
        {
          "output_type": "stream",
          "text": [
            "Test Score : 94.54907%\n",
            "Training Score : 95.15511%\n"
          ],
          "name": "stdout"
        }
      ]
    },
    {
      "cell_type": "markdown",
      "metadata": {
        "id": "jY74aX71YC6k"
      },
      "source": [
        "### **Making Predictions**\r\n",
        "Now, we will predict values using our trained model and algorithm"
      ]
    },
    {
      "cell_type": "code",
      "metadata": {
        "colab": {
          "base_uri": "https://localhost:8080/"
        },
        "id": "QDeUPOGyX_oB",
        "outputId": "ae674515-4763-4091-e50e-e492dd2fd46c"
      },
      "source": [
        "print(x_test) # Testing data - In Hours\r\n",
        "y_predict = regressor.predict(x_test) # Predicting the scores"
      ],
      "execution_count": null,
      "outputs": [
        {
          "output_type": "stream",
          "text": [
            "[[1.5]\n",
            " [3.2]\n",
            " [7.4]\n",
            " [2.5]\n",
            " [5.9]]\n"
          ],
          "name": "stdout"
        }
      ]
    },
    {
      "cell_type": "code",
      "metadata": {
        "colab": {
          "base_uri": "https://localhost:8080/",
          "height": 204
        },
        "id": "BvhAR8SJYwoa",
        "outputId": "bc67a9b4-0073-4f6b-b2d6-740159d209f7"
      },
      "source": [
        "data = pd.DataFrame({'Actual': y_test, 'Predicted': y_predict}) # Predicting percentage\r\n",
        "data"
      ],
      "execution_count": null,
      "outputs": [
        {
          "output_type": "execute_result",
          "data": {
            "text/html": [
              "<div>\n",
              "<style scoped>\n",
              "    .dataframe tbody tr th:only-of-type {\n",
              "        vertical-align: middle;\n",
              "    }\n",
              "\n",
              "    .dataframe tbody tr th {\n",
              "        vertical-align: top;\n",
              "    }\n",
              "\n",
              "    .dataframe thead th {\n",
              "        text-align: right;\n",
              "    }\n",
              "</style>\n",
              "<table border=\"1\" class=\"dataframe\">\n",
              "  <thead>\n",
              "    <tr style=\"text-align: right;\">\n",
              "      <th></th>\n",
              "      <th>Actual</th>\n",
              "      <th>Predicted</th>\n",
              "    </tr>\n",
              "  </thead>\n",
              "  <tbody>\n",
              "    <tr>\n",
              "      <th>0</th>\n",
              "      <td>20</td>\n",
              "      <td>16.884145</td>\n",
              "    </tr>\n",
              "    <tr>\n",
              "      <th>1</th>\n",
              "      <td>27</td>\n",
              "      <td>33.732261</td>\n",
              "    </tr>\n",
              "    <tr>\n",
              "      <th>2</th>\n",
              "      <td>69</td>\n",
              "      <td>75.357018</td>\n",
              "    </tr>\n",
              "    <tr>\n",
              "      <th>3</th>\n",
              "      <td>30</td>\n",
              "      <td>26.794801</td>\n",
              "    </tr>\n",
              "    <tr>\n",
              "      <th>4</th>\n",
              "      <td>62</td>\n",
              "      <td>60.491033</td>\n",
              "    </tr>\n",
              "  </tbody>\n",
              "</table>\n",
              "</div>"
            ],
            "text/plain": [
              "   Actual  Predicted\n",
              "0      20  16.884145\n",
              "1      27  33.732261\n",
              "2      69  75.357018\n",
              "3      30  26.794801\n",
              "4      62  60.491033"
            ]
          },
          "metadata": {
            "tags": []
          },
          "execution_count": 12
        }
      ]
    },
    {
      "cell_type": "code",
      "metadata": {
        "colab": {
          "base_uri": "https://localhost:8080/"
        },
        "id": "6okArLukaqqX",
        "outputId": "6838bd5e-b66c-4311-c228-eb4ab1ce0667"
      },
      "source": [
        "# Predicting the score for 9.25 hours\r\n",
        "print('Score of student who studied for 9.25 hours a day :', regressor.predict([[9.25]]))"
      ],
      "execution_count": null,
      "outputs": [
        {
          "output_type": "stream",
          "text": [
            "Score of student who studied for 9.25 hours a day : [93.69173249]\n"
          ],
          "name": "stdout"
        }
      ]
    },
    {
      "cell_type": "markdown",
      "metadata": {
        "id": "RQwNBU5Wb39Z"
      },
      "source": [
        "### **Checking Efficiency of the Model**"
      ]
    },
    {
      "cell_type": "code",
      "metadata": {
        "colab": {
          "base_uri": "https://localhost:8080/"
        },
        "id": "2GqSnVbicE-O",
        "outputId": "b566362d-2afd-46dc-f2a8-6b4778cbde94"
      },
      "source": [
        "print('Mean Absolute Error :',metrics.mean_absolute_error(y_test, y_predict)) \r\n",
        "print('Mean Squared Error :', metrics.mean_squared_error(y_test, y_predict))\r\n",
        "print('Root Mean Squared Error :', np.sqrt(metrics.mean_squared_error(y_test, y_predict)))\r\n",
        "print('R-2 :', metrics.r2_score(y_test, y_predict))"
      ],
      "execution_count": null,
      "outputs": [
        {
          "output_type": "stream",
          "text": [
            "Mean Absolute Error : 4.183859899002982\n",
            "Mean Squared Error : 21.598769307217456\n",
            "Root Mean Squared Error : 4.647447612100373\n",
            "R-2 : 0.9454906892105354\n"
          ],
          "name": "stdout"
        }
      ]
    },
    {
      "cell_type": "markdown",
      "metadata": {
        "id": "5F19Ry-ohJT1"
      },
      "source": [
        "R-squared gives the goodness of the fit and as can be seen it is 94.549% which is really good. This means that the algorithm has proven to be good for the given data.\r\n",
        "\r\n",
        "It can also be said that the model's accuracy is 94.549%\r\n"
      ]
    },
    {
      "cell_type": "markdown",
      "metadata": {
        "id": "6U_1sk3fhxf9"
      },
      "source": [
        "# **THANK YOU FOR VIEWING**"
      ]
    }
  ]
}
