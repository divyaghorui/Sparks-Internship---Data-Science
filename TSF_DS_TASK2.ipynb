{
 "cells": [
  {
   "cell_type": "markdown",
   "metadata": {},
   "source": [
    " # **TASK 2 : Prediction using Unsupervised ML**\n",
    "\n",
    "1. From the given ‘Iris’ dataset, predicting the optimum number of clusters\n",
    "and representing it visually.\n",
    "2. Using K-means Clustering to predict.\n",
    "3. Using Python to perform this task.\n",
    "4. Dataset : https://bit.ly/3kXTdox\n",
    "\n",
    "### AUTHOR : DIVYA GHORUI"
   ]
  },
  {
   "cell_type": "markdown",
   "metadata": {},
   "source": [
    "### **Importing libraries**"
   ]
  },
  {
   "cell_type": "code",
   "execution_count": 8,
   "metadata": {},
   "outputs": [],
   "source": [
    "import numpy as np\n",
    "import matplotlib.pyplot as plt\n",
    "import pandas as pd\n",
    "from sklearn import datasets"
   ]
  },
  {
   "cell_type": "markdown",
   "metadata": {},
   "source": [
    "### **Loading Iris Dataset into the Notebook**"
   ]
  },
  {
   "cell_type": "code",
   "execution_count": 9,
   "metadata": {},
   "outputs": [
    {
     "data": {
      "text/html": [
       "<div>\n",
       "<style scoped>\n",
       "    .dataframe tbody tr th:only-of-type {\n",
       "        vertical-align: middle;\n",
       "    }\n",
       "\n",
       "    .dataframe tbody tr th {\n",
       "        vertical-align: top;\n",
       "    }\n",
       "\n",
       "    .dataframe thead th {\n",
       "        text-align: right;\n",
       "    }\n",
       "</style>\n",
       "<table border=\"1\" class=\"dataframe\">\n",
       "  <thead>\n",
       "    <tr style=\"text-align: right;\">\n",
       "      <th></th>\n",
       "      <th>sepal length (cm)</th>\n",
       "      <th>sepal width (cm)</th>\n",
       "      <th>petal length (cm)</th>\n",
       "      <th>petal width (cm)</th>\n",
       "    </tr>\n",
       "  </thead>\n",
       "  <tbody>\n",
       "    <tr>\n",
       "      <th>0</th>\n",
       "      <td>5.1</td>\n",
       "      <td>3.5</td>\n",
       "      <td>1.4</td>\n",
       "      <td>0.2</td>\n",
       "    </tr>\n",
       "    <tr>\n",
       "      <th>1</th>\n",
       "      <td>4.9</td>\n",
       "      <td>3.0</td>\n",
       "      <td>1.4</td>\n",
       "      <td>0.2</td>\n",
       "    </tr>\n",
       "    <tr>\n",
       "      <th>2</th>\n",
       "      <td>4.7</td>\n",
       "      <td>3.2</td>\n",
       "      <td>1.3</td>\n",
       "      <td>0.2</td>\n",
       "    </tr>\n",
       "    <tr>\n",
       "      <th>3</th>\n",
       "      <td>4.6</td>\n",
       "      <td>3.1</td>\n",
       "      <td>1.5</td>\n",
       "      <td>0.2</td>\n",
       "    </tr>\n",
       "    <tr>\n",
       "      <th>4</th>\n",
       "      <td>5.0</td>\n",
       "      <td>3.6</td>\n",
       "      <td>1.4</td>\n",
       "      <td>0.2</td>\n",
       "    </tr>\n",
       "  </tbody>\n",
       "</table>\n",
       "</div>"
      ],
      "text/plain": [
       "   sepal length (cm)  sepal width (cm)  petal length (cm)  petal width (cm)\n",
       "0                5.1               3.5                1.4               0.2\n",
       "1                4.9               3.0                1.4               0.2\n",
       "2                4.7               3.2                1.3               0.2\n",
       "3                4.6               3.1                1.5               0.2\n",
       "4                5.0               3.6                1.4               0.2"
      ]
     },
     "execution_count": 9,
     "metadata": {},
     "output_type": "execute_result"
    }
   ],
   "source": [
    "iris = datasets.load_iris()\n",
    "iris_df = pd.DataFrame(iris.data, columns = iris.feature_names)\n",
    "iris_df.head() # The first 5 rows"
   ]
  },
  {
   "cell_type": "markdown",
   "metadata": {},
   "source": [
    "### **Finding the optimum number of clusters for k-means classification**"
   ]
  },
  {
   "cell_type": "code",
   "execution_count": 10,
   "metadata": {},
   "outputs": [],
   "source": [
    "x = iris_df.iloc[:, [0, 1, 2, 3]].values\n",
    "\n",
    "from sklearn.cluster import KMeans\n",
    "wcss = []\n",
    "for i in range(1, 11):\n",
    "    kmeans = KMeans(n_clusters = i, init = 'k-means++', \n",
    "                    max_iter = 300, n_init = 10, random_state = 0)\n",
    "    kmeans.fit(x)\n",
    "    wcss.append(kmeans.inertia_)"
   ]
  },
  {
   "cell_type": "code",
   "execution_count": 11,
   "metadata": {},
   "outputs": [
    {
     "data": {
      "image/png": "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\n",
      "text/plain": [
       "<Figure size 432x288 with 1 Axes>"
      ]
     },
     "metadata": {
      "needs_background": "light"
     },
     "output_type": "display_data"
    }
   ],
   "source": [
    "# Plotting the results onto a line graph\n",
    "plt.plot(range(1, 11), wcss)\n",
    "plt.title('The elbow method')\n",
    "plt.xlabel('Number of clusters')\n",
    "plt.ylabel('WCSS') # Within cluster sum of squares\n",
    "plt.show()"
   ]
  },
  {
   "cell_type": "markdown",
   "metadata": {},
   "source": [
    "With the above graph, we can observe \"the elbow\"\n",
    "\n",
    "The optimal clusters are formed where the elbow occurs. This is when the WCSS(Within Cluster Sum of Squares) doesn't decrease with every iteration significantly.\n",
    "\n",
    "Here we choose the number of clusters as '3'."
   ]
  },
  {
   "cell_type": "markdown",
   "metadata": {},
   "source": [
    "### **Creating K-Means Classifier**"
   ]
  },
  {
   "cell_type": "code",
   "execution_count": 12,
   "metadata": {},
   "outputs": [],
   "source": [
    "# Applying kmeans to the dataset \n",
    "# Creating the kmeans classifier\n",
    "\n",
    "kmeans = KMeans(n_clusters = 3, init = 'k-means++',\n",
    "                max_iter = 300, n_init = 10, random_state = 0)\n",
    "y_kmeans = kmeans.fit_predict(x)"
   ]
  },
  {
   "cell_type": "markdown",
   "metadata": {},
   "source": [
    "### **Visualizing the cluster data**"
   ]
  },
  {
   "cell_type": "code",
   "execution_count": 26,
   "metadata": {},
   "outputs": [
    {
     "data": {
      "text/plain": [
       "<matplotlib.legend.Legend at 0x1d4926e8>"
      ]
     },
     "execution_count": 26,
     "metadata": {},
     "output_type": "execute_result"
    },
    {
     "data": {
      "image/png": "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\n",
      "text/plain": [
       "<Figure size 432x288 with 1 Axes>"
      ]
     },
     "metadata": {
      "needs_background": "light"
     },
     "output_type": "display_data"
    }
   ],
   "source": [
    "# Visualising the clusters \n",
    "# Preferably on the first two columns\n",
    "plt.scatter(x[y_kmeans == 0, 0], x[y_kmeans == 0, 1], \n",
    "            s = 100, c = 'blue', label = 'Iris-setosa')\n",
    "plt.scatter(x[y_kmeans == 1, 0], x[y_kmeans == 1, 1], \n",
    "            s = 100, c = 'purple', label = 'Iris-versicolour')\n",
    "plt.scatter(x[y_kmeans == 2, 0], x[y_kmeans == 2, 1],\n",
    "            s = 100, c = 'green', label = 'Iris-virginica')\n",
    "plt.legend()"
   ]
  },
     "execution_count": 27,
     "metadata": {},
     "output_type": "execute_result"
    },
    {
     "data": {
      "image/png": "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\n",
      "text/plain": [
       "<Figure size 432x288 with 1 Axes>"
      ]
     },
     "metadata": {
      "needs_background": "light"
     },
     "output_type": "display_data"
    }
   ],
   "source": [
    "# Plotting the centroids of the clusters\n",
    "plt.scatter(kmeans.cluster_centers_[:, 0], kmeans.cluster_centers_[:,1], \n",
    "            s = 100, c = 'yellow', label = 'Centroids')\n",
    "\n",
    "plt.legend()"
   ]
  },
  {
   "cell_type": "code",
   "execution_count": 33,
   "metadata": {},
   "outputs": [
    {
     "data": {
      "text/plain": [
       "<matplotlib.legend.Legend at 0x5cedfe8>"
      ]
     },
     "execution_count": 33,
     "metadata": {},
     "output_type": "execute_result"
    },
    {
     "data": {
      "image/png": "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\n",
      "text/plain": [
       "<Figure size 432x288 with 1 Axes>"
      ]
     },
     "metadata": {
      "needs_background": "light"
     },
     "output_type": "display_data"
    }
   ],
   "source": [
    "# Visualising the clusters with their centroids\n",
    "plt.scatter(x[y_kmeans == 0, 0], x[y_kmeans == 0, 1], \n",
    "            s = 100, c = 'blue', label = 'Iris-setosa')\n",
    "plt.scatter(x[y_kmeans == 1, 0], x[y_kmeans == 1, 1], \n",
    "            s = 100, c = 'purple', label = 'Iris-versicolour')\n",
    "plt.scatter(x[y_kmeans == 2, 0], x[y_kmeans == 2, 1],\n",
    "            s = 100, c = 'green', label = 'Iris-virginica')\n",
    "\n",
    "# Plotting centroids of the clusters\n",
    "plt.scatter(kmeans.cluster_centers_[:, 0], kmeans.cluster_centers_[:,1], \n",
    "            s = 100, c = 'yellow', label = 'Centroids')\n",
    "\n",
    "plt.legend(bbox_to_anchor = (1, 1))"
   ]
  },
  {
   "cell_type": "markdown",
   "metadata": {},
   "source": [
    "Hence the dataset of \"IRIS\" is visualized into 3 clusters and their centroids are shown."
   ]
  },
  {
   "cell_type": "markdown",
   "metadata": {},
   "source": [
    "# THANK YOU FOR VIEWING!!"
   ]
  },
  {
   "cell_type": "code",
   "execution_count": null,
   "metadata": {},
   "outputs": [],
   "source": []
  }
 ],
 "metadata": {
  "kernelspec": {
   "display_name": "Python 3",
   "language": "python",
   "name": "python3"
  },
  "language_info": {
   "codemirror_mode": {
    "name": "ipython",
    "version": 3
   },
   "file_extension": ".py",
   "mimetype": "text/x-python",
   "name": "python",
   "nbconvert_exporter": "python",
   "pygments_lexer": "ipython3",
   "version": "3.8.0"
  }
 },
 "nbformat": 4,
 "nbformat_minor": 4
}
